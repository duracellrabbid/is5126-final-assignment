{
 "cells": [
  {
   "cell_type": "markdown",
   "id": "554f4141",
   "metadata": {},
   "source": [
    "# Dataset links:\n",
    "1. https://www.kaggle.com/datasets/pavansubhasht/ibm-hr-analytics-attrition-dataset\n",
    "2. https://www.kaggle.com/datasets/stealthtechnologies/employee-attrition-dataset"
   ]
  },
  {
   "cell_type": "code",
   "execution_count": null,
   "id": "80ac60a8",
   "metadata": {},
   "outputs": [],
   "source": [
    "%pip install matplotlib seaborn pandas numpy openai scikit-learn fastapi streamlit dotenv\n",
    "%pip install torch torchvision --index-url https://download.pytorch.org/whl/cu130"
   ]
  },
  {
   "cell_type": "code",
   "execution_count": null,
   "id": "0a6ddf2e",
   "metadata": {},
   "outputs": [],
   "source": [
    "import pandas as pd\n",
    "import numpy as np\n",
    "import matplotlib.pyplot as plt\n",
    "import os\n",
    "from openai import OpenAI"
   ]
  },
  {
   "cell_type": "code",
   "execution_count": null,
   "id": "db0a00b2",
   "metadata": {},
   "outputs": [],
   "source": [
    "# load OpenAI API key\n",
    "\n",
    "\n",
    "OPENAI_API_KEY = ''\n",
    "try:\n",
    "\tfrom google.colab import userdata\n",
    "\tprint(\"Running in Google Colab\")\n",
    "\tOPENAI_API_KEY = userdata.get('OPENAI_API_KEY', '')\n",
    "except ImportError:\n",
    "\timport dotenv\n",
    "\tdotenv.load_dotenv()\n",
    "\tprint(\"Running locally\")\n",
    "\tOPENAI_API_KEY = os.environ.get('OPENAI_API_KEY', '')\n",
    "\n",
    "openai = OpenAI(api_key=OPENAI_API_KEY)\n",
    "try:\n",
    "\tresponse = openai.models.list()\n",
    "\tprint(\"Available models:\", response.data)\n",
    "\tprint(\"OpenAI API key is valid.\")\n",
    "except Exception as e:\n",
    "\tprint(\"Error with OpenAI API key:\", e)"
   ]
  },
  {
   "cell_type": "code",
   "execution_count": null,
   "id": "3393965b",
   "metadata": {},
   "outputs": [],
   "source": [
    "df = pd.read_csv('WA_Fn-UseC_-HR-Employee-Attrition.csv')\n",
    "df.head(10)"
   ]
  },
  {
   "cell_type": "code",
   "execution_count": null,
   "id": "15745c4d",
   "metadata": {},
   "outputs": [],
   "source": [
    "df.isna().sum()"
   ]
  },
  {
   "cell_type": "code",
   "execution_count": null,
   "id": "240445a1",
   "metadata": {},
   "outputs": [],
   "source": [
    "df.shape"
   ]
  },
  {
   "cell_type": "code",
   "execution_count": null,
   "id": "8a7c9485",
   "metadata": {},
   "outputs": [],
   "source": [
    "df.info()"
   ]
  },
  {
   "cell_type": "code",
   "execution_count": null,
   "id": "e51daf84",
   "metadata": {},
   "outputs": [],
   "source": [
    "df[\"Attrition_Binary\"] = df[\"Attrition\"].apply(lambda x: 1 if x == \"Yes\" else 0)\n",
    "\n",
    "display(df.head())"
   ]
  },
  {
   "cell_type": "code",
   "execution_count": null,
   "id": "e66454d4",
   "metadata": {},
   "outputs": [],
   "source": [
    "\n",
    "df['Attrition_Binary'].value_counts().plot(kind='bar')\n",
    "plt.title('Attrition Distribution')\n",
    "plt.show()"
   ]
  },
  {
   "cell_type": "code",
   "execution_count": null,
   "id": "e6d56280",
   "metadata": {},
   "outputs": [],
   "source": []
  }
 ],
 "metadata": {
  "kernelspec": {
   "display_name": ".venv",
   "language": "python",
   "name": "python3"
  },
  "language_info": {
   "codemirror_mode": {
    "name": "ipython",
    "version": 3
   },
   "file_extension": ".py",
   "mimetype": "text/x-python",
   "name": "python",
   "nbconvert_exporter": "python",
   "pygments_lexer": "ipython3",
   "version": "3.13.7"
  }
 },
 "nbformat": 4,
 "nbformat_minor": 5
}
